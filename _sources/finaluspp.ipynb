{
  "cells": [
    {
      "cell_type": "markdown",
      "metadata": {
        "id": "llKRJpcq9qsM"
      },
      "source": [
        "# Notebook1"
      ]
    },
    {
      "cell_type": "code",
      "execution_count": 1,
      "metadata": {
        "id": "-3gs48Fly-iA"
      },
      "outputs": [],
      "source": [
        "import sqlite3\n",
        "import csv\n"
      ]
    },
    {
      "cell_type": "markdown",
      "metadata": {
        "id": "R7Cd6jhg9qsO"
      },
      "source": [
        "# CONNECTING TO THE DATA BASE"
      ]
    },
    {
      "cell_type": "code",
      "execution_count": 2,
      "metadata": {
        "id": "TCWmzLUJ36bV"
      },
      "outputs": [],
      "source": [
        "# let us connect to SQLite database\n",
        "conn = sqlite3.connect('sales_db.sqlite')\n",
        "cursor = conn.cursor()"
      ]
    },
    {
      "cell_type": "markdown",
      "metadata": {
        "id": "xWed26Cr9qsP"
      },
      "source": [
        "# CREATING THE 3NF DATABASE"
      ]
    },
    {
      "cell_type": "code",
      "execution_count": 3,
      "metadata": {
        "id": "rC9NxoS236h-"
      },
      "outputs": [],
      "source": [
        "# let us create the normalized tables\n",
        "cursor.execute('''\n",
        "CREATE TABLE IF NOT EXISTS sales (\n",
        "    Area_Code TEXT,\n",
        "    State TEXT,\n",
        "    Market TEXT,\n",
        "    Market_Size TEXT,\n",
        "    Date TEXT,\n",
        "    Sales REAL,\n",
        "    Profit REAL,\n",
        "    COGS REAL,\n",
        "    ProductID TEXT\n",
        ")\n",
        "''')\n",
        "\n",
        "cursor.execute('''\n",
        "CREATE TABLE IF NOT EXISTS products (\n",
        "    ProductID TEXT PRIMARY KEY,\n",
        "    Product_Type TEXT,\n",
        "    Product TEXT\n",
        ")\n",
        "''')\n",
        "\n",
        "cursor.execute('''\n",
        "CREATE TABLE IF NOT EXISTS marketing (\n",
        "    Area_Code TEXT PRIMARY KEY,\n",
        "    Marketing REAL,\n",
        "    Total_Expenses REAL,\n",
        "    Margin REAL,\n",
        "    Budget_Sales REAL,\n",
        "    Budget_Profit REAL,\n",
        "    Budget_COGS REAL\n",
        ")\n",
        "''')\n",
        "\n",
        "conn.commit()"
      ]
    },
    {
      "cell_type": "code",
      "execution_count": 4,
      "metadata": {
        "id": "asBE6xUG36kW"
      },
      "outputs": [],
      "source": [
        "sales_data = []\n",
        "products_data = []\n",
        "marketing_data = []"
      ]
    },
    {
      "cell_type": "markdown",
      "metadata": {
        "id": "xTunrhGe9qsQ"
      },
      "source": [
        "# READING THE DATA SALES.CSV INSERTING INTO DATABASE"
      ]
    },
    {
      "cell_type": "code",
      "execution_count": 5,
      "metadata": {
        "id": "Wo2Xd27X36mo"
      },
      "outputs": [],
      "source": [
        "with open('sales.csv', 'r') as file:\n",
        "    csv_reader = csv.DictReader(file)\n",
        "    for row in csv_reader:\n",
        "        # Prepare data for sales table\n",
        "        sales_data.append((\n",
        "            row['Area Code'], row['State'], row['Market'], row['Market Size'], row['Date'],\n",
        "            row['Sales'], row['Profit'], row['COGS'], row['ProductId']\n",
        "        ))\n",
        "\n",
        "        # Prepare data for products table\n",
        "        products_data.append((\n",
        "            row['ProductId'], row['Product Type'], row['Product']\n",
        "        ))\n",
        "\n",
        "        # Prepare data for marketing table\n",
        "        marketing_data.append((\n",
        "            row['Area Code'], row['Marketing'], row['Total Expenses'], row['Margin'],\n",
        "            row['Budget Sales'], row['Budget Profit'], row['Budget COGS']\n",
        "        ))\n",
        "\n",
        "# let us use `executemany` to insert data into the database\n",
        "cursor.executemany('''\n",
        "INSERT OR IGNORE INTO sales (Area_Code, State, Market, Market_Size, Date, Sales, Profit, COGS, ProductID)\n",
        "VALUES (?, ?, ?, ?, ?, ?, ?, ?, ?)\n",
        "''', sales_data)\n",
        "\n",
        "cursor.executemany('''\n",
        "INSERT OR IGNORE INTO products (ProductID, Product_Type, Product)\n",
        "VALUES (?, ?, ?)\n",
        "''', products_data)\n",
        "\n",
        "cursor.executemany('''\n",
        "INSERT OR IGNORE INTO marketing (Area_Code, Marketing, Total_Expenses, Margin, Budget_Sales, Budget_Profit, Budget_COGS)\n",
        "VALUES (?, ?, ?, ?, ?, ?, ?)\n",
        "''', marketing_data)\n",
        "\n",
        "# Commit the changes\n",
        "conn.commit()"
      ]
    },
    {
      "cell_type": "markdown",
      "metadata": {
        "id": "428YTuky9qsQ"
      },
      "source": [
        "# VERYFYING THE DATA INSERTED"
      ]
    },
    {
      "cell_type": "code",
      "execution_count": 6,
      "metadata": {
        "colab": {
          "base_uri": "https://localhost:8080/"
        },
        "id": "QKGo7Tzn36o2",
        "outputId": "3a5f9e79-4800-417f-ba69-b2c61e9aeef7"
      },
      "outputs": [
        {
          "output_type": "stream",
          "name": "stdout",
          "text": [
            "('203', 'Connecticut', 'East', 'Small Market', '04/01/10 00:00:00', 292.0, 107.0, 116.0, '2')\n",
            "('203', 'Connecticut', 'East', 'Small Market', '07/01/10 00:00:00', 225.0, 75.0, 90.0, '2')\n",
            "('203', 'Connecticut', 'East', 'Small Market', '11/01/10 00:00:00', 325.0, 122.0, 130.0, '2')\n",
            "('203', 'Connecticut', 'East', 'Small Market', '12/01/10 00:00:00', 289.0, 105.0, 115.0, '2')\n",
            "('203', 'Connecticut', 'East', 'Small Market', '07/01/11 00:00:00', 223.0, 104.0, 90.0, '2')\n",
            "('2', 'Coffee', 'Columbian')\n",
            "('13', 'Tea', 'Green Tea')\n",
            "('5', 'Espresso', 'Caffe Mocha')\n",
            "('6', 'Espresso', 'Decaf Espresso')\n",
            "('9', 'Herbal Tea', 'Lemon')\n",
            "('203', 38.0, 69.0, 176.0, 270.0, 110.0, 110.0)\n",
            "('206', 16.0, 39.0, 77.0, 160.0, 70.0, 60.0)\n",
            "('209', 40.0, 63.0, -21.0, 130.0, -80.0, 160.0)\n",
            "('210', 75.0, 96.0, 288.0, 660.0, 270.0, 300.0)\n",
            "('212', 22.0, 34.0, 117.0, 210.0, 100.0, 80.0)\n"
          ]
        }
      ],
      "source": [
        "# let us Verify the data\n",
        "for row in cursor.execute('SELECT * FROM sales LIMIT 5'):\n",
        "    print(row)\n",
        "\n",
        "for row in cursor.execute('SELECT * FROM products LIMIT 5'):\n",
        "    print(row)\n",
        "\n",
        "for row in cursor.execute('SELECT * FROM marketing LIMIT 5'):\n",
        "    print(row)\n",
        "\n",
        "# Close the connection\n",
        "conn.close()"
      ]
    },
    {
      "cell_type": "code",
      "execution_count": 7,
      "metadata": {
        "id": "sT7uD4uf36rB"
      },
      "outputs": [],
      "source": [
        "import pandas as pd"
      ]
    },
    {
      "cell_type": "markdown",
      "metadata": {
        "id": "TZCchwhu9qsR"
      },
      "source": [
        "# FETCHING THE DATA FROM DATABASE INTO PANDAS DATA FRAME"
      ]
    },
    {
      "cell_type": "code",
      "execution_count": 8,
      "metadata": {
        "colab": {
          "base_uri": "https://localhost:8080/"
        },
        "id": "FN4FtTFJ36tJ",
        "outputId": "e7a965cc-1f51-4653-9c17-dc891a42f974"
      },
      "outputs": [
        {
          "output_type": "stream",
          "name": "stdout",
          "text": [
            "  Area_Code        State Market   Market_Size               Date  Sales  \\\n",
            "0       203  Connecticut   East  Small Market  04/01/10 00:00:00  292.0   \n",
            "1       203  Connecticut   East  Small Market  07/01/10 00:00:00  225.0   \n",
            "2       203  Connecticut   East  Small Market  11/01/10 00:00:00  325.0   \n",
            "3       203  Connecticut   East  Small Market  12/01/10 00:00:00  289.0   \n",
            "4       203  Connecticut   East  Small Market  07/01/11 00:00:00  223.0   \n",
            "\n",
            "   Profit   COGS Product_Type    Product  Marketing  Total_Expenses  Margin  \n",
            "0   107.0  116.0       Coffee  Columbian       38.0            69.0   176.0  \n",
            "1    75.0   90.0       Coffee  Columbian       38.0            69.0   176.0  \n",
            "2   122.0  130.0       Coffee  Columbian       38.0            69.0   176.0  \n",
            "3   105.0  115.0       Coffee  Columbian       38.0            69.0   176.0  \n",
            "4   104.0   90.0       Coffee  Columbian       38.0            69.0   176.0  \n"
          ]
        }
      ],
      "source": [
        "# Connect to the SQLite database\n",
        "conn = sqlite3.connect('sales_db.sqlite')\n",
        "\n",
        "\n",
        "query = \"\"\"\n",
        "SELECT\n",
        "    s.Area_Code,\n",
        "    s.State,\n",
        "    s.Market,\n",
        "    s.Market_Size,\n",
        "    s.Date,\n",
        "    s.Sales,\n",
        "    s.Profit,\n",
        "    s.COGS,\n",
        "    p.Product_Type,\n",
        "    p.Product,\n",
        "    m.Marketing,\n",
        "    m.Total_Expenses,\n",
        "    m.Margin\n",
        "FROM sales s\n",
        "JOIN products p ON s.ProductID = p.ProductID\n",
        "JOIN marketing m ON s.Area_Code = m.Area_Code;\n",
        "\"\"\"\n",
        "\n",
        "# let us execute the query and load the results into a Pandas DataFrame\n",
        "df = pd.read_sql_query(query, conn)\n",
        "\n",
        "\n",
        "print(df.head())\n",
        "\n",
        "# Close the database connection\n",
        "conn.close()"
      ]
    },
    {
      "cell_type": "code",
      "execution_count": 9,
      "metadata": {
        "id": "_7FpbZ4K5jXW"
      },
      "outputs": [],
      "source": [
        "from sklearn.model_selection import train_test_split"
      ]
    },
    {
      "cell_type": "markdown",
      "metadata": {
        "id": "LfMiyR589qsS"
      },
      "source": [
        "# DATA EXPLORATION and  DATA CLEANING TASKS\n",
        "upto dagshub authetications all comes under eda\n"
      ]
    },
    {
      "cell_type": "code",
      "execution_count": 16,
      "metadata": {
        "colab": {
          "base_uri": "https://localhost:8080/"
        },
        "id": "820eLWFH7iJA",
        "outputId": "cc114021-f8d3-43e7-c8b0-632e26bbba9a"
      },
      "outputs": [
        {
          "output_type": "stream",
          "name": "stdout",
          "text": [
            "             Sales       Profit         COGS    Marketing  Total_Expenses  \\\n",
            "count  4248.000000  4248.000000  4248.000000  4248.000000     4248.000000   \n",
            "mean    192.987524    61.097693    84.433145    31.027778       57.586158   \n",
            "std     151.133127   101.708546    67.249769    24.058846       31.672656   \n",
            "min      17.000000  -638.000000     0.000000     5.000000       16.000000   \n",
            "25%     100.000000    17.000000    43.000000    15.000000       39.000000   \n",
            "50%     138.000000    40.000000    60.000000    23.000000       46.000000   \n",
            "75%     230.000000    92.000000   100.000000    39.000000       66.000000   \n",
            "max     912.000000   778.000000   364.000000   127.000000      178.000000   \n",
            "\n",
            "            Margin  \n",
            "count  4248.000000  \n",
            "mean    125.374765  \n",
            "std     120.080857  \n",
            "min     -67.000000  \n",
            "25%      56.000000  \n",
            "50%      84.000000  \n",
            "75%     144.000000  \n",
            "max     613.000000  \n",
            "<class 'pandas.core.frame.DataFrame'>\n",
            "RangeIndex: 4248 entries, 0 to 4247\n",
            "Data columns (total 13 columns):\n",
            " #   Column          Non-Null Count  Dtype  \n",
            "---  ------          --------------  -----  \n",
            " 0   Area_Code       4248 non-null   object \n",
            " 1   State           4248 non-null   object \n",
            " 2   Market          4248 non-null   object \n",
            " 3   Market_Size     4248 non-null   object \n",
            " 4   Date            4248 non-null   object \n",
            " 5   Sales           4248 non-null   float64\n",
            " 6   Profit          4248 non-null   float64\n",
            " 7   COGS            4248 non-null   float64\n",
            " 8   Product_Type    4248 non-null   object \n",
            " 9   Product         4248 non-null   object \n",
            " 10  Marketing       4248 non-null   float64\n",
            " 11  Total_Expenses  4248 non-null   float64\n",
            " 12  Margin          4248 non-null   float64\n",
            "dtypes: float64(6), object(7)\n",
            "memory usage: 431.6+ KB\n",
            "None\n"
          ]
        }
      ],
      "source": [
        "# let us do Basic Data Exploration\n",
        "print(df.describe())\n",
        "print(df.info())"
      ]
    },
    {
      "cell_type": "code",
      "source": [
        "# drop any missing rows\n",
        "df = df.dropna()"
      ],
      "metadata": {
        "id": "h4-ihUQ398Gp"
      },
      "execution_count": 11,
      "outputs": []
    },
    {
      "cell_type": "code",
      "execution_count": 13,
      "metadata": {
        "colab": {
          "base_uri": "https://localhost:8080/"
        },
        "id": "XV9kWucrYlUx",
        "outputId": "38856e42-bfd1-48e6-ade7-04a540851bd3"
      },
      "outputs": [
        {
          "output_type": "stream",
          "name": "stdout",
          "text": [
            "Unique values in column COGS:\n",
            "[116.  90. 130. 115. 103. 125.  20.  36.  19.  24.  53.  60.  61.  75.\n",
            "  65.  63.  64.  62.  55.  48.  43.  42.  47.  49.  85.  76.  80.  67.\n",
            "  79.  74.  68.  35.  34.  44.  37.  69.  92.  95. 110. 133. 124.  93.\n",
            "  96. 105.  58.  59.  54.  57.  78.  83.  71. 123.  40.  56.  52.  46.\n",
            "  45.  50.  30.  33.  22. 127. 154. 284. 121. 247. 251.  39. 113. 244.\n",
            " 104.  81.  86. 135. 173. 260. 239. 258. 364. 249. 234. 253. 228. 214.\n",
            " 225. 118. 266.  84.  77.  41.  51. 145. 162. 149.  21.  18. 144. 191.\n",
            " 252. 243. 100. 196. 291.  87.  91.  94.  72.  38. 170. 181. 114.  82.\n",
            " 112.  32.  97.  70.  31.  99. 153. 155.  88. 132. 263. 207. 148. 238.\n",
            " 200. 224. 272. 257.  89.  29. 279. 265. 271. 235.  25.  23.  28.  10.\n",
            "  15.   0. 109. 141. 245. 270. 111. 101. 209.  27. 102. 241. 120. 213.\n",
            "  98. 134. 161.  16.  17. 295. 122. 240. 255. 316. 108. 250. 356. 211.\n",
            " 294. 302. 195.  14. 311.]\n",
            "\n",
            "\n"
          ]
        }
      ],
      "source": [
        "categorical_columns = ['COGS']  # Replace with your actual categorical columns\n",
        "\n",
        "for col in categorical_columns:\n",
        "    print(f\"Unique values in column {col}:\")\n",
        "    print(df[col].unique())\n",
        "    print(\"\\n\")\n"
      ]
    },
    {
      "cell_type": "markdown",
      "metadata": {
        "id": "hcG-5AEz9qsS"
      },
      "source": [
        "# TEST TRAIN SPLIT"
      ]
    },
    {
      "cell_type": "code",
      "execution_count": 14,
      "metadata": {
        "colab": {
          "base_uri": "https://localhost:8080/"
        },
        "id": "mgPw4Pmd7lA0",
        "outputId": "747bcbbc-7408-4b8f-cd19-053eea70b8bc"
      },
      "outputs": [
        {
          "output_type": "stream",
          "name": "stdout",
          "text": [
            "Product_Type\n",
            "Espresso      1176\n",
            "Coffee        1056\n",
            "Herbal Tea    1056\n",
            "Tea            960\n",
            "Name: count, dtype: int64\n",
            "Train shape: (3398, 12), Test shape: (850, 12)\n"
          ]
        }
      ],
      "source": [
        "# Check class distribution\n",
        "print(df['Product_Type'].value_counts())\n",
        "\n",
        "# Train/test split with stratification (if needed)\n",
        "X = df.drop(['Product_Type'], axis=1)\n",
        "y = df['Product_Type']\n",
        "\n",
        "X_train, X_test, y_train, y_test = train_test_split(\n",
        "    X, y, test_size=0.2, random_state=42, stratify=y\n",
        ")\n",
        "\n",
        "print(f\"Train shape: {X_train.shape}, Test shape: {X_test.shape}\")"
      ]
    },
    {
      "cell_type": "markdown",
      "metadata": {
        "id": "Uw8fI0pC9qsS"
      },
      "source": [
        "# CORRELATION MATRIX"
      ]
    },
    {
      "cell_type": "code",
      "execution_count": 21,
      "metadata": {
        "colab": {
          "base_uri": "https://localhost:8080/",
          "height": 699
        },
        "id": "7JkRAxMCfv2z",
        "outputId": "b8f22703-4e5b-4ca2-ed0e-9d29326e7b46"
      },
      "outputs": [
        {
          "output_type": "display_data",
          "data": {
            "text/plain": [
              "<Figure size 1200x800 with 2 Axes>"
            ],
            "image/png": "[encoded data removed]"
          },
          "metadata": {}
        }
      ],
      "source": [
        "from sklearn.preprocessing import LabelEncoder\n",
        "import matplotlib.pyplot as plt\n",
        "import seaborn as sns\n",
        "label_encoder = LabelEncoder()\n",
        "df['Product_Type_encoded'] = label_encoder.fit_transform(df['Product_Type'])\n",
        "\n",
        "# Selecting the numerical columns for correlation\n",
        "numerical_columns = df.select_dtypes(include=['float64', 'int64']).columns\n",
        "\n",
        "# let us Compute the correlation matrix\n",
        "correlation_matrix = df[numerical_columns].corr()\n",
        "\n",
        "# Plot the heatmap with the target variable included\n",
        "plt.figure(figsize=(12, 8))\n",
        "sns.heatmap(correlation_matrix, annot=True, cmap='coolwarm', fmt='.2f', linewidths=0.5)\n",
        "plt.title('Correlation Matrix with Target Variable')\n",
        "plt.show()"
      ]
    },
    {
      "cell_type": "code",
      "execution_count": 22,
      "metadata": {
        "colab": {
          "base_uri": "https://localhost:8080/"
        },
        "id": "tYAcrRzD8dGf",
        "outputId": "ad948896-f703-4fc6-e57c-6a16fb733ba9"
      },
      "outputs": [
        {
          "output_type": "stream",
          "name": "stdout",
          "text": [
            "     Area_Code          State Market   Market_Size               Date  Sales  \\\n",
            "14         203    Connecticut   East  Small Market  06/01/10 00:00:00  128.0   \n",
            "23         203    Connecticut   East  Small Market  12/01/11 00:00:00  140.0   \n",
            "68         206     Washington   West  Small Market  08/01/10 00:00:00  105.0   \n",
            "130        209     California   West  Major Market  05/01/10 00:00:00  106.0   \n",
            "131        209     California   West  Major Market  07/01/10 00:00:00   87.0   \n",
            "...        ...            ...    ...           ...                ...    ...   \n",
            "4111       971         Oregon   West  Small Market  11/01/11 00:00:00  133.0   \n",
            "4205       978  Massachusetts   East  Major Market  12/01/11 00:00:00  106.0   \n",
            "4243       985      Louisiana  South  Small Market  07/01/10 00:00:00  113.0   \n",
            "4244       985      Louisiana  South  Small Market  08/01/10 00:00:00  105.0   \n",
            "4245       985      Louisiana  South  Small Market  12/01/10 00:00:00  131.0   \n",
            "\n",
            "      Profit   COGS Product_Type      Product  Marketing  Total_Expenses  \\\n",
            "14      -2.0   53.0     Espresso  Caffe Mocha       38.0            69.0   \n",
            "23      -3.0   55.0     Espresso  Caffe Mocha       38.0            69.0   \n",
            "68      -8.0   44.0          Tea    Green Tea       16.0            39.0   \n",
            "130    -84.0  127.0       Coffee     Amaretto       40.0            63.0   \n",
            "131   -138.0  154.0       Coffee     Amaretto       40.0            63.0   \n",
            "...      ...    ...          ...          ...        ...             ...   \n",
            "4111    -6.0   52.0       Coffee     Amaretto       49.0            79.0   \n",
            "4205   -30.0   47.0     Espresso  Caffe Mocha       23.0            54.0   \n",
            "4243    -6.0   47.0     Espresso  Caffe Latte       13.0            25.0   \n",
            "4244    -7.0   44.0     Espresso  Caffe Latte       13.0            25.0   \n",
            "4245    -3.0   55.0     Espresso  Caffe Latte       13.0            25.0   \n",
            "\n",
            "      Margin  Product_Type_encoded  \n",
            "14     176.0                     1  \n",
            "23     176.0                     1  \n",
            "68      77.0                     3  \n",
            "130    -21.0                     0  \n",
            "131    -21.0                     0  \n",
            "...      ...                   ...  \n",
            "4111    75.0                     0  \n",
            "4205   420.0                     1  \n",
            "4243    71.0                     1  \n",
            "4244    71.0                     1  \n",
            "4245    71.0                     1  \n",
            "\n",
            "[653 rows x 14 columns]\n"
          ]
        }
      ],
      "source": [
        "# let us investigate negative values\n",
        "negative_profit_margin = df[(df['Profit'] < 0) | (df['Margin'] < 0)]\n",
        "print(negative_profit_margin)\n",
        "\n",
        "# let us Replace negatives with 0 or a placeholder (based on business rules)\n",
        "df['Profit'] = df['Profit'].clip(lower=0)\n",
        "df['Margin'] = df['Margin'].clip(lower=0)\n"
      ]
    },
    {
      "cell_type": "code",
      "execution_count": 23,
      "metadata": {
        "colab": {
          "base_uri": "https://localhost:8080/"
        },
        "id": "iF9gesGs8uRA",
        "outputId": "9bb60358-4e16-4663-8436-e3208d87ca18"
      },
      "outputs": [
        {
          "output_type": "stream",
          "name": "stdout",
          "text": [
            "0   2010-04-01\n",
            "1   2010-07-01\n",
            "2   2010-11-01\n",
            "3   2010-12-01\n",
            "4   2011-07-01\n",
            "Name: Date, dtype: datetime64[ns]\n"
          ]
        },
        {
          "output_type": "stream",
          "name": "stderr",
          "text": [
            "<ipython-input-23-111663ed1450>:1: UserWarning: Could not infer format, so each element will be parsed individually, falling back to `dateutil`. To ensure parsing is consistent and as-expected, please specify a format.\n",
            "  df['Date'] = pd.to_datetime(df['Date'])\n"
          ]
        }
      ],
      "source": [
        "df['Date'] = pd.to_datetime(df['Date'])\n",
        "print(df['Date'].head())\n"
      ]
    },
    {
      "cell_type": "markdown",
      "metadata": {
        "id": "hrDukRGC9qsT"
      },
      "source": [
        "# plotting outliers"
      ]
    },
    {
      "cell_type": "code",
      "execution_count": 24,
      "metadata": {
        "colab": {
          "base_uri": "https://localhost:8080/",
          "height": 806
        },
        "id": "Z9VITC2I9Wgz",
        "outputId": "e58d0c71-d445-40d4-b6d9-f7578a1feff9"
      },
      "outputs": [
        {
          "output_type": "display_data",
          "data": {
            "text/plain": [
              "<Figure size 1200x800 with 6 Axes>"
            ],
            "image/png": "[encoded data removed]"
          },
          "metadata": {}
        }
      ],
      "source": [
        "#let us  visualize outliers using boxplots\n",
        "import seaborn as sns\n",
        "import matplotlib.pyplot as plt\n",
        "\n",
        "numerical_columns = ['Sales', 'Profit', 'COGS', 'Marketing', 'Total_Expenses', 'Margin']\n",
        "\n",
        "plt.figure(figsize=(12, 8))\n",
        "for i, col in enumerate(numerical_columns, 1):\n",
        "    plt.subplot(2, 3, i)\n",
        "    sns.boxplot(data=df[col])\n",
        "    plt.title(f\"Boxplot of {col}\")\n",
        "\n",
        "plt.tight_layout()\n",
        "plt.show()\n"
      ]
    },
    {
      "cell_type": "code",
      "source": [
        "# Handle missing values (impute with mean for numerical and most frequent for categorical)\n",
        "from sklearn.impute import SimpleImputer\n",
        "# Assuming the dataframe has these numerical columns\n",
        "numerical_features = ['Sales', 'Profit', 'COGS', 'Marketing', 'Total_Expenses']\n",
        "\n",
        "# You can define other variables similarly\n",
        "categorical_features = ['State', 'Market', 'Market_Size']\n",
        "\n",
        "imputer = SimpleImputer(strategy='mean')\n",
        "df[numerical_features] = imputer.fit_transform(df[numerical_features])"
      ],
      "metadata": {
        "id": "8AN6ENb1-WuS"
      },
      "execution_count": 26,
      "outputs": []
    },
    {
      "cell_type": "code",
      "execution_count": 27,
      "metadata": {
        "colab": {
          "base_uri": "https://localhost:8080/"
        },
        "id": "WWBbiW5p9DgJ",
        "outputId": "a2a221a6-ceb9-4b56-81cc-8695395463ef"
      },
      "outputs": [
        {
          "output_type": "stream",
          "name": "stdout",
          "text": [
            "New Train shape: (2973, 12), Test shape: (1275, 12)\n"
          ]
        }
      ],
      "source": [
        "X = df.drop(['Product_Type', 'Date'], axis=1)  # Exclude non-predictive columns\n",
        "y = df['Product_Type']\n",
        "\n",
        "X_train, X_test, y_train, y_test = train_test_split(\n",
        "    X, y, test_size=0.3, random_state=42, stratify=y\n",
        ")\n",
        "\n",
        "print(f\"New Train shape: {X_train.shape}, Test shape: {X_test.shape}\")\n"
      ]
    },
    {
      "cell_type": "markdown",
      "metadata": {
        "id": "SKKyPY2K9qsT"
      },
      "source": [
        "# DAGSHUB AUTHENCTION FOR ML FLOW"
      ]
    },
    {
      "cell_type": "code",
      "execution_count": null,
      "metadata": {
        "colab": {
          "base_uri": "https://localhost:8080/",
          "height": 1000
        },
        "id": "YGGtoTFDAJtz",
        "outputId": "b4eb0f05-9489-45cd-932a-a8b2bd196d39"
      },
      "outputs": [
        {
          "name": "stdout",
          "output_type": "stream",
          "text": [
            "Requirement already satisfied: dagshub in /usr/local/lib/python3.10/dist-packages (0.4.0)\n",
            "Requirement already satisfied: mlflow in /usr/local/lib/python3.10/dist-packages (2.19.0)\n",
            "Requirement already satisfied: PyYAML>=5 in /usr/local/lib/python3.10/dist-packages (from dagshub) (6.0.2)\n",
            "Requirement already satisfied: appdirs>=1.4.4 in /usr/local/lib/python3.10/dist-packages (from dagshub) (1.4.4)\n",
            "Requirement already satisfied: click>=8.0.4 in /usr/local/lib/python3.10/dist-packages (from dagshub) (8.1.7)\n",
            "Requirement already satisfied: httpx>=0.23.0 in /usr/local/lib/python3.10/dist-packages (from dagshub) (0.28.1)\n",
            "Requirement already satisfied: GitPython>=3.1.29 in /usr/local/lib/python3.10/dist-packages (from dagshub) (3.1.43)\n",
            "Requirement already satisfied: rich>=13.1.0 in /usr/local/lib/python3.10/dist-packages (from dagshub) (13.9.4)\n",
            "Requirement already satisfied: dacite~=1.6.0 in /usr/local/lib/python3.10/dist-packages (from dagshub) (1.6.0)\n",
            "Requirement already satisfied: tenacity>=8.2.2 in /usr/local/lib/python3.10/dist-packages (from dagshub) (9.0.0)\n",
            "Requirement already satisfied: gql[requests] in /usr/local/lib/python3.10/dist-packages (from dagshub) (3.5.0)\n",
            "Requirement already satisfied: dataclasses-json in /usr/local/lib/python3.10/dist-packages (from dagshub) (0.6.7)\n",
            "Requirement already satisfied: pandas in /usr/local/lib/python3.10/dist-packages (from dagshub) (2.2.2)\n",
            "Requirement already satisfied: treelib>=1.6.4 in /usr/local/lib/python3.10/dist-packages (from dagshub) (1.7.0)\n",
            "Requirement already satisfied: pathvalidate>=3.0.0 in /usr/local/lib/python3.10/dist-packages (from dagshub) (3.2.1)\n",
            "Requirement already satisfied: python-dateutil in /usr/local/lib/python3.10/dist-packages (from dagshub) (2.8.2)\n",
            "Requirement already satisfied: boto3 in /usr/local/lib/python3.10/dist-packages (from dagshub) (1.35.86)\n",
            "Requirement already satisfied: dagshub-annotation-converter>=0.1.0 in /usr/local/lib/python3.10/dist-packages (from dagshub) (0.1.2)\n",
            "Requirement already satisfied: mlflow-skinny==2.19.0 in /usr/local/lib/python3.10/dist-packages (from mlflow) (2.19.0)\n",
            "Requirement already satisfied: Flask<4 in /usr/local/lib/python3.10/dist-packages (from mlflow) (3.1.0)\n",
            "Requirement already satisfied: Jinja2<4,>=2.11 in /usr/local/lib/python3.10/dist-packages (from mlflow) (3.1.4)\n",
            "Requirement already satisfied: alembic!=1.10.0,<2 in /usr/local/lib/python3.10/dist-packages (from mlflow) (1.14.0)\n",
            "Requirement already satisfied: docker<8,>=4.0.0 in /usr/local/lib/python3.10/dist-packages (from mlflow) (7.1.0)\n",
            "Requirement already satisfied: graphene<4 in /usr/local/lib/python3.10/dist-packages (from mlflow) (3.4.3)\n",
            "Requirement already satisfied: gunicorn<24 in /usr/local/lib/python3.10/dist-packages (from mlflow) (23.0.0)\n",
            "Requirement already satisfied: markdown<4,>=3.3 in /usr/local/lib/python3.10/dist-packages (from mlflow) (3.7)\n",
            "Requirement already satisfied: matplotlib<4 in /usr/local/lib/python3.10/dist-packages (from mlflow) (3.8.0)\n",
            "Requirement already satisfied: numpy<3 in /usr/local/lib/python3.10/dist-packages (from mlflow) (1.26.4)\n",
            "Requirement already satisfied: pyarrow<19,>=4.0.0 in /usr/local/lib/python3.10/dist-packages (from mlflow) (17.0.0)\n",
            "Requirement already satisfied: scikit-learn<2 in /usr/local/lib/python3.10/dist-packages (from mlflow) (1.6.0)\n",
            "Requirement already satisfied: scipy<2 in /usr/local/lib/python3.10/dist-packages (from mlflow) (1.13.1)\n",
            "Requirement already satisfied: sqlalchemy<3,>=1.4.0 in /usr/local/lib/python3.10/dist-packages (from mlflow) (2.0.36)\n",
            "Requirement already satisfied: cachetools<6,>=5.0.0 in /usr/local/lib/python3.10/dist-packages (from mlflow-skinny==2.19.0->mlflow) (5.5.0)\n",
            "Requirement already satisfied: cloudpickle<4 in /usr/local/lib/python3.10/dist-packages (from mlflow-skinny==2.19.0->mlflow) (3.1.0)\n",
            "Requirement already satisfied: databricks-sdk<1,>=0.20.0 in /usr/local/lib/python3.10/dist-packages (from mlflow-skinny==2.19.0->mlflow) (0.40.0)\n",
            "Requirement already satisfied: importlib_metadata!=4.7.0,<9,>=3.7.0 in /usr/local/lib/python3.10/dist-packages (from mlflow-skinny==2.19.0->mlflow) (8.5.0)\n",
            "Requirement already satisfied: opentelemetry-api<3,>=1.9.0 in /usr/local/lib/python3.10/dist-packages (from mlflow-skinny==2.19.0->mlflow) (1.29.0)\n",
            "Requirement already satisfied: opentelemetry-sdk<3,>=1.9.0 in /usr/local/lib/python3.10/dist-packages (from mlflow-skinny==2.19.0->mlflow) (1.29.0)\n",
            "Requirement already satisfied: packaging<25 in /usr/local/lib/python3.10/dist-packages (from mlflow-skinny==2.19.0->mlflow) (24.2)\n",
            "Requirement already satisfied: protobuf<6,>=3.12.0 in /usr/local/lib/python3.10/dist-packages (from mlflow-skinny==2.19.0->mlflow) (4.25.5)\n",
            "Requirement already satisfied: requests<3,>=2.17.3 in /usr/local/lib/python3.10/dist-packages (from mlflow-skinny==2.19.0->mlflow) (2.32.3)\n",
            "Requirement already satisfied: sqlparse<1,>=0.4.0 in /usr/local/lib/python3.10/dist-packages (from mlflow-skinny==2.19.0->mlflow) (0.5.3)\n",
            "Requirement already satisfied: Mako in /usr/local/lib/python3.10/dist-packages (from alembic!=1.10.0,<2->mlflow) (1.3.8)\n",
            "Requirement already satisfied: typing-extensions>=4 in /usr/local/lib/python3.10/dist-packages (from alembic!=1.10.0,<2->mlflow) (4.12.2)\n",
            "Requirement already satisfied: lxml in /usr/local/lib/python3.10/dist-packages (from dagshub-annotation-converter>=0.1.0->dagshub) (5.3.0)\n",
            "Requirement already satisfied: pillow in /usr/local/lib/python3.10/dist-packages (from dagshub-annotation-converter>=0.1.0->dagshub) (11.0.0)\n",
            "Requirement already satisfied: pydantic>=2.0.0 in /usr/local/lib/python3.10/dist-packages (from dagshub-annotation-converter>=0.1.0->dagshub) (2.10.3)\n",
            "Requirement already satisfied: urllib3>=1.26.0 in /usr/local/lib/python3.10/dist-packages (from docker<8,>=4.0.0->mlflow) (2.2.3)\n",
            "Requirement already satisfied: Werkzeug>=3.1 in /usr/local/lib/python3.10/dist-packages (from Flask<4->mlflow) (3.1.3)\n",
            "Requirement already satisfied: itsdangerous>=2.2 in /usr/local/lib/python3.10/dist-packages (from Flask<4->mlflow) (2.2.0)\n",
            "Requirement already satisfied: blinker>=1.9 in /usr/local/lib/python3.10/dist-packages (from Flask<4->mlflow) (1.9.0)\n",
            "Requirement already satisfied: gitdb<5,>=4.0.1 in /usr/local/lib/python3.10/dist-packages (from GitPython>=3.1.29->dagshub) (4.0.11)\n",
            "Requirement already satisfied: graphql-core<3.3,>=3.1 in /usr/local/lib/python3.10/dist-packages (from graphene<4->mlflow) (3.2.5)\n",
            "Requirement already satisfied: graphql-relay<3.3,>=3.1 in /usr/local/lib/python3.10/dist-packages (from graphene<4->mlflow) (3.2.0)\n",
            "Requirement already satisfied: anyio in /usr/local/lib/python3.10/dist-packages (from httpx>=0.23.0->dagshub) (3.7.1)\n",
            "Requirement already satisfied: certifi in /usr/local/lib/python3.10/dist-packages (from httpx>=0.23.0->dagshub) (2024.12.14)\n",
            "Requirement already satisfied: httpcore==1.* in /usr/local/lib/python3.10/dist-packages (from httpx>=0.23.0->dagshub) (1.0.7)\n",
            "Requirement already satisfied: idna in /usr/local/lib/python3.10/dist-packages (from httpx>=0.23.0->dagshub) (3.10)\n",
            "Requirement already satisfied: h11<0.15,>=0.13 in /usr/local/lib/python3.10/dist-packages (from httpcore==1.*->httpx>=0.23.0->dagshub) (0.14.0)\n",
            "Requirement already satisfied: MarkupSafe>=2.0 in /usr/local/lib/python3.10/dist-packages (from Jinja2<4,>=2.11->mlflow) (3.0.2)\n",
            "Requirement already satisfied: contourpy>=1.0.1 in /usr/local/lib/python3.10/dist-packages (from matplotlib<4->mlflow) (1.3.1)\n",
            "Requirement already satisfied: cycler>=0.10 in /usr/local/lib/python3.10/dist-packages (from matplotlib<4->mlflow) (0.12.1)\n",
            "Requirement already satisfied: fonttools>=4.22.0 in /usr/local/lib/python3.10/dist-packages (from matplotlib<4->mlflow) (4.55.3)\n",
            "Requirement already satisfied: kiwisolver>=1.0.1 in /usr/local/lib/python3.10/dist-packages (from matplotlib<4->mlflow) (1.4.7)\n",
            "Requirement already satisfied: pyparsing>=2.3.1 in /usr/local/lib/python3.10/dist-packages (from matplotlib<4->mlflow) (3.2.0)\n",
            "Requirement already satisfied: pytz>=2020.1 in /usr/local/lib/python3.10/dist-packages (from pandas->dagshub) (2024.2)\n",
            "Requirement already satisfied: tzdata>=2022.7 in /usr/local/lib/python3.10/dist-packages (from pandas->dagshub) (2024.2)\n",
            "Requirement already satisfied: six>=1.5 in /usr/local/lib/python3.10/dist-packages (from python-dateutil->dagshub) (1.17.0)\n",
            "Requirement already satisfied: markdown-it-py>=2.2.0 in /usr/local/lib/python3.10/dist-packages (from rich>=13.1.0->dagshub) (3.0.0)\n",
            "Requirement already satisfied: pygments<3.0.0,>=2.13.0 in /usr/local/lib/python3.10/dist-packages (from rich>=13.1.0->dagshub) (2.18.0)\n",
            "Requirement already satisfied: joblib>=1.2.0 in /usr/local/lib/python3.10/dist-packages (from scikit-learn<2->mlflow) (1.4.2)\n",
            "Requirement already satisfied: threadpoolctl>=3.1.0 in /usr/local/lib/python3.10/dist-packages (from scikit-learn<2->mlflow) (3.5.0)\n",
            "Requirement already satisfied: greenlet!=0.4.17 in /usr/local/lib/python3.10/dist-packages (from sqlalchemy<3,>=1.4.0->mlflow) (3.1.1)\n",
            "Requirement already satisfied: botocore<1.36.0,>=1.35.86 in /usr/local/lib/python3.10/dist-packages (from boto3->dagshub) (1.35.86)\n",
            "Requirement already satisfied: jmespath<2.0.0,>=0.7.1 in /usr/local/lib/python3.10/dist-packages (from boto3->dagshub) (1.0.1)\n",
            "Requirement already satisfied: s3transfer<0.11.0,>=0.10.0 in /usr/local/lib/python3.10/dist-packages (from boto3->dagshub) (0.10.4)\n",
            "Requirement already satisfied: marshmallow<4.0.0,>=3.18.0 in /usr/local/lib/python3.10/dist-packages (from dataclasses-json->dagshub) (3.23.2)\n",
            "Requirement already satisfied: typing-inspect<1,>=0.4.0 in /usr/local/lib/python3.10/dist-packages (from dataclasses-json->dagshub) (0.9.0)\n",
            "Requirement already satisfied: yarl<2.0,>=1.6 in /usr/local/lib/python3.10/dist-packages (from gql[requests]->dagshub) (1.18.3)\n",
            "Requirement already satisfied: backoff<3.0,>=1.11.1 in /usr/local/lib/python3.10/dist-packages (from gql[requests]->dagshub) (2.2.1)\n",
            "Requirement already satisfied: requests-toolbelt<2,>=1.0.0 in /usr/local/lib/python3.10/dist-packages (from gql[requests]->dagshub) (1.0.0)\n",
            "Requirement already satisfied: sniffio>=1.1 in /usr/local/lib/python3.10/dist-packages (from anyio->httpx>=0.23.0->dagshub) (1.3.1)\n",
            "Requirement already satisfied: exceptiongroup in /usr/local/lib/python3.10/dist-packages (from anyio->httpx>=0.23.0->dagshub) (1.2.2)\n",
            "Requirement already satisfied: google-auth~=2.0 in /usr/local/lib/python3.10/dist-packages (from databricks-sdk<1,>=0.20.0->mlflow-skinny==2.19.0->mlflow) (2.27.0)\n",
            "Requirement already satisfied: smmap<6,>=3.0.1 in /usr/local/lib/python3.10/dist-packages (from gitdb<5,>=4.0.1->GitPython>=3.1.29->dagshub) (5.0.1)\n",
            "Requirement already satisfied: zipp>=3.20 in /usr/local/lib/python3.10/dist-packages (from importlib_metadata!=4.7.0,<9,>=3.7.0->mlflow-skinny==2.19.0->mlflow) (3.21.0)\n",
            "Requirement already satisfied: mdurl~=0.1 in /usr/local/lib/python3.10/dist-packages (from markdown-it-py>=2.2.0->rich>=13.1.0->dagshub) (0.1.2)\n",
            "Requirement already satisfied: deprecated>=1.2.6 in /usr/local/lib/python3.10/dist-packages (from opentelemetry-api<3,>=1.9.0->mlflow-skinny==2.19.0->mlflow) (1.2.15)\n",
            "Requirement already satisfied: opentelemetry-semantic-conventions==0.50b0 in /usr/local/lib/python3.10/dist-packages (from opentelemetry-sdk<3,>=1.9.0->mlflow-skinny==2.19.0->mlflow) (0.50b0)\n",
            "Requirement already satisfied: annotated-types>=0.6.0 in /usr/local/lib/python3.10/dist-packages (from pydantic>=2.0.0->dagshub-annotation-converter>=0.1.0->dagshub) (0.7.0)\n",
            "Requirement already satisfied: pydantic-core==2.27.1 in /usr/local/lib/python3.10/dist-packages (from pydantic>=2.0.0->dagshub-annotation-converter>=0.1.0->dagshub) (2.27.1)\n",
            "Requirement already satisfied: charset-normalizer<4,>=2 in /usr/local/lib/python3.10/dist-packages (from requests<3,>=2.17.3->mlflow-skinny==2.19.0->mlflow) (3.4.0)\n",
            "Requirement already satisfied: mypy-extensions>=0.3.0 in /usr/local/lib/python3.10/dist-packages (from typing-inspect<1,>=0.4.0->dataclasses-json->dagshub) (1.0.0)\n",
            "Requirement already satisfied: multidict>=4.0 in /usr/local/lib/python3.10/dist-packages (from yarl<2.0,>=1.6->gql[requests]->dagshub) (6.1.0)\n",
            "Requirement already satisfied: propcache>=0.2.0 in /usr/local/lib/python3.10/dist-packages (from yarl<2.0,>=1.6->gql[requests]->dagshub) (0.2.1)\n",
            "Requirement already satisfied: wrapt<2,>=1.10 in /usr/local/lib/python3.10/dist-packages (from deprecated>=1.2.6->opentelemetry-api<3,>=1.9.0->mlflow-skinny==2.19.0->mlflow) (1.17.0)\n",
            "Requirement already satisfied: pyasn1-modules>=0.2.1 in /usr/local/lib/python3.10/dist-packages (from google-auth~=2.0->databricks-sdk<1,>=0.20.0->mlflow-skinny==2.19.0->mlflow) (0.4.1)\n",
            "Requirement already satisfied: rsa<5,>=3.1.4 in /usr/local/lib/python3.10/dist-packages (from google-auth~=2.0->databricks-sdk<1,>=0.20.0->mlflow-skinny==2.19.0->mlflow) (4.9)\n",
            "Requirement already satisfied: pyasn1<0.7.0,>=0.4.6 in /usr/local/lib/python3.10/dist-packages (from pyasn1-modules>=0.2.1->google-auth~=2.0->databricks-sdk<1,>=0.20.0->mlflow-skinny==2.19.0->mlflow) (0.6.1)\n"
          ]
        },
        {
          "data": {
            "text/html": [
              "<pre style=\"white-space:pre;overflow-x:auto;line-height:normal;font-family:Menlo,'DejaVu Sans Mono',consolas,'Courier New',monospace\">Initialized MLflow to track repo <span style=\"color: #008000; text-decoration-color: #008000\">\"ushasreepeketi/my-first-repo\"</span>\n",
              "</pre>\n"
            ],
            "text/plain": [
              "Initialized MLflow to track repo \u001b[32m\"ushasreepeketi/my-first-repo\"\u001b[0m\n"
            ]
          },
          "metadata": {},
          "output_type": "display_data"
        },
        {
          "data": {
            "text/html": [
              "<pre style=\"white-space:pre;overflow-x:auto;line-height:normal;font-family:Menlo,'DejaVu Sans Mono',consolas,'Courier New',monospace\">Repository ushasreepeketi/my-first-repo initialized!\n",
              "</pre>\n"
            ],
            "text/plain": [
              "Repository ushasreepeketi/my-first-repo initialized!\n"
            ]
          },
          "metadata": {},
          "output_type": "display_data"
        },
        {
          "data": {
            "text/plain": [
              "<Experiment: artifact_location='mlflow-artifacts:/9a2acbaef5b44313bd3d4e4973759481', creation_time=1734596403106, experiment_id='0', last_update_time=1734596403106, lifecycle_stage='active', name='ML_Project_Experiments', tags={}>"
            ]
          },
          "execution_count": 52,
          "metadata": {},
          "output_type": "execute_result"
        }
      ],
      "source": [
        "!pip install dagshub mlflow\n",
        "\n",
        "from dagshub import init\n",
        "import mlflow\n",
        "import mlflow.sklearn\n",
        "\n",
        "# Initializing the DagsHub\n",
        "init(\n",
        "    repo_owner='ushasreepeketi',\n",
        "    repo_name='my-first-repo',\n",
        "    mlflow=True\n",
        ")\n",
        "\n",
        "\n",
        "mlflow.set_experiment(\"ML_Project_Experiments\")\n"
      ]
    },
    {
      "cell_type": "markdown",
      "metadata": {
        "id": "o5tuE3aV9qsT"
      },
      "source": [
        "# EXPERIMENT -1 LOGISTIC REGRESSION"
      ]
    },
    {
      "cell_type": "code",
      "execution_count": null,
      "metadata": {
        "colab": {
          "base_uri": "https://localhost:8080/"
        },
        "id": "r9JTpATLNZDJ",
        "outputId": "674d8088-56f8-4c96-ede1-93bcd160c0a1"
      },
      "outputs": [
        {
          "name": "stderr",
          "output_type": "stream",
          "text": [
            "/usr/local/lib/python3.10/dist-packages/sklearn/linear_model/_sag.py:348: ConvergenceWarning: The max_iter was reached which means the coef_ did not converge\n",
            "  warnings.warn(\n",
            "/usr/local/lib/python3.10/dist-packages/sklearn/linear_model/_sag.py:348: ConvergenceWarning: The max_iter was reached which means the coef_ did not converge\n",
            "  warnings.warn(\n",
            "/usr/local/lib/python3.10/dist-packages/sklearn/linear_model/_sag.py:348: ConvergenceWarning: The max_iter was reached which means the coef_ did not converge\n",
            "  warnings.warn(\n",
            "/usr/local/lib/python3.10/dist-packages/sklearn/linear_model/_sag.py:348: ConvergenceWarning: The max_iter was reached which means the coef_ did not converge\n",
            "  warnings.warn(\n",
            "/usr/local/lib/python3.10/dist-packages/sklearn/linear_model/_sag.py:348: ConvergenceWarning: The max_iter was reached which means the coef_ did not converge\n",
            "  warnings.warn(\n",
            "/usr/local/lib/python3.10/dist-packages/sklearn/linear_model/_sag.py:348: ConvergenceWarning: The max_iter was reached which means the coef_ did not converge\n",
            "  warnings.warn(\n",
            "/usr/local/lib/python3.10/dist-packages/sklearn/linear_model/_sag.py:348: ConvergenceWarning: The max_iter was reached which means the coef_ did not converge\n",
            "  warnings.warn(\n",
            "/usr/local/lib/python3.10/dist-packages/sklearn/linear_model/_sag.py:348: ConvergenceWarning: The max_iter was reached which means the coef_ did not converge\n",
            "  warnings.warn(\n",
            "/usr/local/lib/python3.10/dist-packages/sklearn/linear_model/_sag.py:348: ConvergenceWarning: The max_iter was reached which means the coef_ did not converge\n",
            "  warnings.warn(\n",
            "/usr/local/lib/python3.10/dist-packages/sklearn/linear_model/_sag.py:348: ConvergenceWarning: The max_iter was reached which means the coef_ did not converge\n",
            "  warnings.warn(\n",
            "/usr/local/lib/python3.10/dist-packages/sklearn/linear_model/_sag.py:348: ConvergenceWarning: The max_iter was reached which means the coef_ did not converge\n",
            "  warnings.warn(\n",
            "/usr/local/lib/python3.10/dist-packages/sklearn/linear_model/_sag.py:348: ConvergenceWarning: The max_iter was reached which means the coef_ did not converge\n",
            "  warnings.warn(\n",
            "/usr/local/lib/python3.10/dist-packages/sklearn/linear_model/_sag.py:348: ConvergenceWarning: The max_iter was reached which means the coef_ did not converge\n",
            "  warnings.warn(\n",
            "/usr/local/lib/python3.10/dist-packages/sklearn/linear_model/_sag.py:348: ConvergenceWarning: The max_iter was reached which means the coef_ did not converge\n",
            "  warnings.warn(\n",
            "/usr/local/lib/python3.10/dist-packages/sklearn/linear_model/_sag.py:348: ConvergenceWarning: The max_iter was reached which means the coef_ did not converge\n",
            "  warnings.warn(\n",
            "/usr/local/lib/python3.10/dist-packages/sklearn/linear_model/_sag.py:348: ConvergenceWarning: The max_iter was reached which means the coef_ did not converge\n",
            "  warnings.warn(\n",
            "/usr/local/lib/python3.10/dist-packages/sklearn/linear_model/_sag.py:348: ConvergenceWarning: The max_iter was reached which means the coef_ did not converge\n",
            "  warnings.warn(\n",
            "/usr/local/lib/python3.10/dist-packages/sklearn/linear_model/_sag.py:348: ConvergenceWarning: The max_iter was reached which means the coef_ did not converge\n",
            "  warnings.warn(\n",
            "/usr/local/lib/python3.10/dist-packages/sklearn/linear_model/_sag.py:348: ConvergenceWarning: The max_iter was reached which means the coef_ did not converge\n",
            "  warnings.warn(\n",
            "/usr/local/lib/python3.10/dist-packages/sklearn/linear_model/_sag.py:348: ConvergenceWarning: The max_iter was reached which means the coef_ did not converge\n",
            "  warnings.warn(\n",
            "\u001b[31m2024/12/20 23:09:42 WARNING mlflow.models.model: Model logged without a signature and input example. Please set `input_example` parameter when logging the model to auto infer the model signature.\u001b[0m\n"
          ]
        },
        {
          "name": "stdout",
          "output_type": "stream",
          "text": [
            "Logistic Regression: Train Score: 0.35, Test Score: 0.35\n",
            "Best Params: {'classifier__C': 0.1, 'classifier__solver': 'liblinear'}\n",
            "🏃 View run Logistic Regression at: https://dagshub.com/ushasreepeketi/my-first-repo.mlflow/#/experiments/0/runs/5fec7d1568204a819df0ac16287d90b4\n",
            "🧪 View experiment at: https://dagshub.com/ushasreepeketi/my-first-repo.mlflow/#/experiments/0\n"
          ]
        }
      ],
      "source": [
        "from sklearn.linear_model import LogisticRegression\n",
        "from sklearn.pipeline import Pipeline\n",
        "from sklearn.compose import ColumnTransformer\n",
        "from sklearn.preprocessing import StandardScaler, OneHotEncoder\n",
        "from sklearn.model_selection import cross_val_score, GridSearchCV\n",
        "import mlflow\n",
        "import mlflow.sklearn\n",
        "from sklearn.metrics import accuracy_score, f1_score\n",
        "f1_scores1 = {}\n",
        "# let us do the preprocessing pipeline\n",
        "numerical_features = ['Sales', 'Profit', 'COGS', 'Marketing', 'Total_Expenses']\n",
        "categorical_features = ['State', 'Market', 'Market_Size']\n",
        "\n",
        "numerical_transformer = StandardScaler()\n",
        "categorical_transformer = OneHotEncoder(handle_unknown='ignore')\n",
        "\n",
        "preprocessor = ColumnTransformer(\n",
        "    transformers=[\n",
        "        ('num', numerical_transformer, numerical_features),\n",
        "        ('cat', categorical_transformer, categorical_features)\n",
        "    ]\n",
        ")\n",
        "\n",
        "# let us define logistic regression pipeline\n",
        "pipeline = Pipeline(steps=[\n",
        "    ('preprocessor', preprocessor),\n",
        "    ('classifier', LogisticRegression(class_weight='balanced'))\n",
        "])\n",
        "\n",
        "# Hyperparameter tuning (optional)\n",
        "param_grid = {\n",
        "    'classifier__C': [0.1, 1, 10],\n",
        "    'classifier__solver': ['liblinear', 'saga'],\n",
        "}\n",
        "\n",
        "grid_search = GridSearchCV(pipeline, param_grid, cv=10, scoring='f1_macro')\n",
        "grid_search.fit(X_train, y_train)\n",
        "\n",
        "# Log the experiment for mlflow\n",
        "with mlflow.start_run(run_name=\"Logistic Regression\"):\n",
        "    # Cross-validation\n",
        "    cv_scores = cross_val_score(grid_search.best_estimator_, X_train, y_train, cv=10, scoring='f1_macro')\n",
        "    mean_cv_score = cv_scores.mean()\n",
        "    std_cv_score = cv_scores.std()\n",
        "\n",
        "    # Fit the pipeline on full training data\n",
        "    pipeline.fit(X_train, y_train)\n",
        "    train_score = pipeline.score(X_train, y_train)\n",
        "    test_score = pipeline.score(X_test, y_test)\n",
        "    f1_scores1['Logistic Regression'] = mean_cv_score\n",
        "\n",
        "    # Log metrics\n",
        "    mlflow.log_metric(\"mean_cv_f1_score\", mean_cv_score)\n",
        "    mlflow.log_metric(\"std_cv_f1_score\", std_cv_score)\n",
        "    mlflow.log_metric(\"train_score\", train_score)\n",
        "    mlflow.log_metric(\"test_score\", test_score)\n",
        "\n",
        "    # Log model\n",
        "    mlflow.sklearn.log_model(pipeline, \"logistic_regression_pipeline\")\n",
        "\n",
        "    # Print Results\n",
        "    print(f\"Logistic Regression: Train Score: {train_score:.2f}, Test Score: {test_score:.2f}\")\n",
        "    print(f\"Best Params: {grid_search.best_params_}\")\n"
      ]
    },
    {
      "cell_type": "code",
      "execution_count": null,
      "metadata": {
        "colab": {
          "base_uri": "https://localhost:8080/"
        },
        "id": "zNo0jM_aOaw_",
        "outputId": "2ca14fa8-ea1f-485b-c83f-1919c997505b"
      },
      "outputs": [
        {
          "name": "stdout",
          "output_type": "stream",
          "text": [
            "Class Mapping: {'Coffee': 0, 'Espresso': 1, 'Herbal Tea': 2, 'Tea': 3}\n",
            "     Area_Code          State   Market   Market_Size  Sales  Profit  COGS  \\\n",
            "851        360     Washington     West  Small Market  188.0    86.0  72.0   \n",
            "5171       405       Oklahoma    South  Small Market  221.0    72.0  88.0   \n",
            "6573       603  New Hampshire     East  Small Market  116.0     0.0  45.0   \n",
            "7087       708       Illinois  Central  Major Market  190.0    92.0  78.0   \n",
            "456        303       Colorado  Central  Major Market  135.0    33.0  54.0   \n",
            "\n",
            "             Product  Marketing  Total_Expenses  Margin  \n",
            "851        Columbian       21.0            43.0    99.0  \n",
            "5171  Decaf Espresso       15.0            27.0    60.0  \n",
            "6573     Caffe Mocha       12.0            35.0    55.0  \n",
            "7087           Lemon       39.0            61.0   176.0  \n",
            "456   Decaf Espresso       27.0            39.0   144.0  \n"
          ]
        }
      ],
      "source": [
        "from sklearn.preprocessing import LabelEncoder\n",
        "\n",
        "# let us Encode the target variable\n",
        "label_encoder = LabelEncoder()\n",
        "y_train_encoded = label_encoder.fit_transform(y_train)\n",
        "y_test_encoded = label_encoder.transform(y_test)\n",
        "\n",
        "# let us Check the mapping\n",
        "print(\"Class Mapping:\", dict(zip(label_encoder.classes_, label_encoder.transform(label_encoder.classes_))))\n",
        "print(X_train.head())"
      ]
    },
    {
      "cell_type": "markdown",
      "metadata": {
        "id": "GROBNB0d9qsT"
      },
      "source": [
        "# EXPERIMENT -2 (logistsic,random forest,ridge)\n",
        "#xgb is done in next chunk"
      ]
    },
    {
      "cell_type": "code",
      "execution_count": null,
      "metadata": {
        "colab": {
          "base_uri": "https://localhost:8080/"
        },
        "id": "asqXncZ0OA1a",
        "outputId": "7c201705-e2d8-446e-e952-d5a816ae287d"
      },
      "outputs": [
        {
          "name": "stderr",
          "output_type": "stream",
          "text": [
            "\u001b[31m2024/12/20 23:09:56 WARNING mlflow.models.model: Model logged without a signature and input example. Please set `input_example` parameter when logging the model to auto infer the model signature.\u001b[0m\n"
          ]
        },
        {
          "name": "stdout",
          "output_type": "stream",
          "text": [
            "LogisticRegression: Train Score: 0.38, Test Score: 0.37\n",
            "🏃 View run LogisticRegression at: https://dagshub.com/ushasreepeketi/my-first-repo.mlflow/#/experiments/0/runs/800535d81b70481e85d2f17adf7ed890\n",
            "🧪 View experiment at: https://dagshub.com/ushasreepeketi/my-first-repo.mlflow/#/experiments/0\n"
          ]
        },
        {
          "name": "stderr",
          "output_type": "stream",
          "text": [
            "\u001b[31m2024/12/20 23:10:34 WARNING mlflow.models.model: Model logged without a signature and input example. Please set `input_example` parameter when logging the model to auto infer the model signature.\u001b[0m\n"
          ]
        },
        {
          "name": "stdout",
          "output_type": "stream",
          "text": [
            "RandomForest: Train Score: 1.00, Test Score: 0.96\n",
            "🏃 View run RandomForest at: https://dagshub.com/ushasreepeketi/my-first-repo.mlflow/#/experiments/0/runs/bc0d82c81337493b9ce7d74ad1a662e7\n",
            "🧪 View experiment at: https://dagshub.com/ushasreepeketi/my-first-repo.mlflow/#/experiments/0\n"
          ]
        },
        {
          "name": "stderr",
          "output_type": "stream",
          "text": [
            "\u001b[31m2024/12/20 23:10:43 WARNING mlflow.models.model: Model logged without a signature and input example. Please set `input_example` parameter when logging the model to auto infer the model signature.\u001b[0m\n"
          ]
        },
        {
          "name": "stdout",
          "output_type": "stream",
          "text": [
            "RidgeClassifier: Train Score: 0.36, Test Score: 0.35\n",
            "🏃 View run RidgeClassifier at: https://dagshub.com/ushasreepeketi/my-first-repo.mlflow/#/experiments/0/runs/fea8fdcc299e411b84a4ade3beb69f2b\n",
            "🧪 View experiment at: https://dagshub.com/ushasreepeketi/my-first-repo.mlflow/#/experiments/0\n"
          ]
        }
      ],
      "source": [
        "from sklearn.ensemble import RandomForestClassifier\n",
        "from sklearn.linear_model import LogisticRegression, RidgeClassifier\n",
        "from sklearn.pipeline import Pipeline\n",
        "from sklearn.compose import ColumnTransformer\n",
        "from sklearn.model_selection import cross_val_score\n",
        "import mlflow\n",
        "\n",
        "#let us define classifiers\n",
        "classifiers = {\n",
        "    'LogisticRegression': LogisticRegression(),\n",
        "    'RandomForest': RandomForestClassifier(),\n",
        "    'RidgeClassifier': RidgeClassifier()\n",
        "}\n",
        "random_forest_pipeline = None\n",
        "# Loop through classifiers\n",
        "for name, clf in classifiers.items():\n",
        "    with mlflow.start_run(run_name=name):\n",
        "        pipeline = Pipeline(steps=[\n",
        "            ('preprocessor', preprocessor),  # Assuming preprocessor is already defined\n",
        "            ('classifier', clf)\n",
        "        ])\n",
        "\n",
        "        try:\n",
        "            # Cross-validation with encoded labels\n",
        "            cv_scores = cross_val_score(pipeline, X_train, y_train_encoded, cv=10, scoring='f1_macro')\n",
        "            mean_cv_score = cv_scores.mean()\n",
        "            std_cv_score = cv_scores.std()\n",
        "\n",
        "            # Fit the pipeline on full training data\n",
        "            pipeline.fit(X_train, y_train_encoded)\n",
        "            train_score = pipeline.score(X_train, y_train_encoded)\n",
        "            test_score = pipeline.score(X_test, y_test_encoded)\n",
        "\n",
        "            # Log metrics\n",
        "            f1_scores1[name] = mean_cv_score\n",
        "            mlflow.log_metric(\"mean_cv_f1_score\", mean_cv_score)\n",
        "            mlflow.log_metric(\"std_cv_f1_score\", std_cv_score)\n",
        "            mlflow.log_metric(\"train_score\", train_score)\n",
        "            mlflow.log_metric(\"test_score\", test_score)\n",
        "\n",
        "            # Log model\n",
        "            mlflow.sklearn.log_model(pipeline, f\"{name}_pipeline\")\n",
        "            # Store the RandomForest pipeline for saving later\n",
        "            if name == 'RandomForest':\n",
        "                random_forest_pipeline = pipeline\n",
        "\n",
        "            print(f\"{name}: Train Score: {train_score:.2f}, Test Score: {test_score:.2f}\")\n",
        "        except Exception as e:\n",
        "            print(f\"Error with {name}: {e}\")\n"
      ]
    },
    {
      "cell_type": "code",
      "execution_count": null,
      "metadata": {
        "colab": {
          "base_uri": "https://localhost:8080/"
        },
        "id": "lqHGPkcRSDb0",
        "outputId": "406d8a89-7ba4-4d6e-9037-e3ad7da788b5"
      },
      "outputs": [
        {
          "name": "stdout",
          "output_type": "stream",
          "text": [
            "State              int64\n",
            "Market             int64\n",
            "Market_Size        int64\n",
            "Sales            float64\n",
            "Profit           float64\n",
            "                  ...   \n",
            "Area_Code_971       bool\n",
            "Area_Code_972       bool\n",
            "Area_Code_978       bool\n",
            "Area_Code_979       bool\n",
            "Area_Code_985       bool\n",
            "Length: 165, dtype: object\n"
          ]
        }
      ],
      "source": [
        "from sklearn.preprocessing import LabelEncoder\n",
        "\n",
        "# let us apply label encoding to categorical columns\n",
        "label_encoder = LabelEncoder()\n",
        "X_train['State'] = label_encoder.fit_transform(X_train['State'])\n",
        "X_train['Market'] = label_encoder.fit_transform(X_train['Market'])\n",
        "X_train['Market_Size'] = label_encoder.fit_transform(X_train['Market_Size'])\n",
        "X_train['Product'] = label_encoder.fit_transform(X_train['Product'])\n",
        "X_train = pd.get_dummies(X_train, drop_first=True)\n",
        "\n",
        "\n",
        "print(X_train.dtypes)\n",
        "\n",
        "# let us convert any non-numeric columns to numeric\n",
        "X_train = X_train.apply(pd.to_numeric, errors='coerce')"
      ]
    },
    {
      "cell_type": "markdown",
      "metadata": {
        "id": "i9JdiJsN9qsU"
      },
      "source": [
        "# EXPERIMENT -2 XBG"
      ]
    },
    {
      "cell_type": "code",
      "execution_count": null,
      "metadata": {
        "colab": {
          "base_uri": "https://localhost:8080/"
        },
        "id": "P2wnhrInQoVn",
        "outputId": "42aa2d35-7955-4af4-d664-62dbd5105e80"
      },
      "outputs": [
        {
          "name": "stdout",
          "output_type": "stream",
          "text": [
            "XGBClassifier: Mean F1-Score: 1.00, Std F1-Score: 0.00\n",
            "🏃 View run XGBClassifier at: https://dagshub.com/ushasreepeketi/my-first-repo.mlflow/#/experiments/0/runs/1ffe647359ca427c936a60cd1ffbe1d1\n",
            "🧪 View experiment at: https://dagshub.com/ushasreepeketi/my-first-repo.mlflow/#/experiments/0\n"
          ]
        }
      ],
      "source": [
        "import xgboost as xgb\n",
        "from sklearn.metrics import f1_score\n",
        "from sklearn.model_selection import StratifiedKFold\n",
        "import numpy as np\n",
        "from sklearn.preprocessing import OneHotEncoder\n",
        "\n",
        "# let us do One-hot encode categorical features for XGBoost\n",
        "categorical_columns = [ 'State', 'Market', 'Market_Size', 'Product']\n",
        "X_train_encoded = pd.get_dummies(X_train, columns=categorical_columns, drop_first=True)\n",
        "X_test_encoded = pd.get_dummies(X_test, columns=categorical_columns, drop_first=True)\n",
        "\n",
        "# let us align columns in case train and test differ after encoding\n",
        "X_train_encoded, X_test_encoded = X_train_encoded.align(X_test_encoded, join='left', axis=1, fill_value=0)\n",
        "\n",
        "# Handle XGBClassifier separately\n",
        "with mlflow.start_run(run_name=\"XGBClassifier\"):\n",
        "    skf = StratifiedKFold(n_splits=5, shuffle=True, random_state=42)\n",
        "    f1_scores = []\n",
        "\n",
        "    for train_idx, val_idx in skf.split(X_train_encoded, y_train_encoded):\n",
        "        X_fold_train, X_fold_val = X_train_encoded.iloc[train_idx], X_train_encoded.iloc[val_idx]\n",
        "        y_fold_train, y_fold_val = y_train_encoded[train_idx], y_train_encoded[val_idx]\n",
        "\n",
        "        # Create DMatrix\n",
        "        dtrain = xgb.DMatrix(X_fold_train, label=y_fold_train)\n",
        "        dval = xgb.DMatrix(X_fold_val, label=y_fold_val)\n",
        "\n",
        "        # Train XGBoost model\n",
        "        params = {\n",
        "            \"objective\": \"multi:softmax\",\n",
        "            \"num_class\": len(label_encoder.classes_),\n",
        "            \"eval_metric\": \"mlogloss\",\n",
        "            \"seed\": 12,\n",
        "        }\n",
        "\n",
        "        model = xgb.train(params, dtrain, num_boost_round=1, evals=[(dval, \"validation\")], verbose_eval=False)\n",
        "        y_pred = model.predict(dval)\n",
        "        f1 = f1_score(y_fold_val, y_pred, average='macro')\n",
        "        f1_scores.append(f1)\n",
        "\n",
        "    mean_f1 = np.mean(f1_scores)\n",
        "    std_f1 = np.std(f1_scores)\n",
        "\n",
        "    # Log metrics\n",
        "    mlflow.log_metric(\"mean_cv_f1_score\", mean_f1)\n",
        "    mlflow.log_metric(\"std_cv_f1_score\", std_f1)\n",
        "\n",
        "    print(f\"XGBClassifier: Mean F1-Score: {mean_f1:.2f}, Std F1-Score: {std_f1:.2f}\")\n",
        "\n",
        "\n"
      ]
    },
    {
      "cell_type": "markdown",
      "metadata": {
        "id": "N_E2ORlT9qsU"
      },
      "source": [
        "# EXPERIMENT 3"
      ]
    },
    {
      "cell_type": "code",
      "execution_count": null,
      "metadata": {
        "colab": {
          "base_uri": "https://localhost:8080/"
        },
        "id": "zpnRRZChO2QW",
        "outputId": "c010c6e2-492b-42ea-ea1a-bd37c4ccd8b1"
      },
      "outputs": [
        {
          "name": "stdout",
          "output_type": "stream",
          "text": [
            "Feature engineering logged to MLFlow.\n",
            "🏃 View run Feature Engineering at: https://dagshub.com/ushasreepeketi/my-first-repo.mlflow/#/experiments/0/runs/bccadd6d00f840e7b4cee9b7c09e65e2\n",
            "🧪 View experiment at: https://dagshub.com/ushasreepeketi/my-first-repo.mlflow/#/experiments/0\n"
          ]
        }
      ],
      "source": [
        "with mlflow.start_run(run_name=\"Feature Engineering\"):\n",
        "    # Adding the  engineered features\n",
        "    df['Profit_Margin_Ratio'] = df['Profit'] / df['Sales']\n",
        "    df['Cost_Per_Marketing'] = df['COGS'] / (df['Marketing'] + 1)\n",
        "\n",
        "    # let us Log the  parameters\n",
        "    mlflow.log_param(\"new_features\", [\"Profit_Margin_Ratio\", \"Cost_Per_Marketing\"])\n",
        "\n",
        "    # Recompute preprocessing\n",
        "    numerical_features.extend(['Profit_Margin_Ratio', 'Cost_Per_Marketing'])\n",
        "\n",
        "    print(\"Feature engineering logged to MLFlow.\")\n"
      ]
    },
    {
      "cell_type": "markdown",
      "metadata": {
        "id": "DTUrzLd49qsZ"
      },
      "source": [
        "# EXPERIMENT 4"
      ]
    },
    {
      "cell_type": "code",
      "execution_count": null,
      "metadata": {
        "colab": {
          "base_uri": "https://localhost:8080/"
        },
        "id": "RrYD5NkMQMnV",
        "outputId": "7cbfa01c-c6fd-4109-d1ed-97671a7b86c7"
      },
      "outputs": [
        {
          "name": "stdout",
          "output_type": "stream",
          "text": [
            "Feature selection logged to MLFlow.\n",
            "🏃 View run Feature Selection at: https://dagshub.com/ushasreepeketi/my-first-repo.mlflow/#/experiments/0/runs/70e399dd5e5346838e825fd43d3c9cbb\n",
            "🧪 View experiment at: https://dagshub.com/ushasreepeketi/my-first-repo.mlflow/#/experiments/0\n"
          ]
        }
      ],
      "source": [
        "\n",
        "from sklearn.feature_selection import VarianceThreshold, SelectKBest, f_classif\n",
        "\n",
        "with mlflow.start_run(run_name=\"Feature Selection\"):\n",
        "    # Variance Threshold\n",
        "    selector = VarianceThreshold(threshold=0.01)\n",
        "    X_selected = selector.fit_transform(X_train)\n",
        "\n",
        "    # ANOVA F-test\n",
        "    anova_selector = SelectKBest(score_func=f_classif, k=10)\n",
        "    X_selected_anova = anova_selector.fit_transform(X_train, y_train)\n",
        "\n",
        "    # Log feature selection\n",
        "    mlflow.log_param(\"variance_threshold\", 0.01)\n",
        "    mlflow.log_param(\"anova_top_k\", 10)\n",
        "\n",
        "    print(\"Feature selection logged to MLFlow.\")\n"
      ]
    },
    {
      "cell_type": "markdown",
      "metadata": {
        "id": "EDlRXupZ9qsZ"
      },
      "source": [
        "# EXPERIMENT 5"
      ]
    },
    {
      "cell_type": "code",
      "execution_count": null,
      "metadata": {
        "colab": {
          "base_uri": "https://localhost:8080/",
          "height": 633
        },
        "id": "CYYw4h0sQPzR",
        "outputId": "2fa90b90-0a3b-4884-d841-87d16e20bfc5"
      },
      "outputs": [
        {
          "data": {
            "image/png": "[encoded data removed]",
            "text/plain": [
              "<Figure size 800x600 with 1 Axes>"
            ]
          },
          "metadata": {},
          "output_type": "display_data"
        },
        {
          "name": "stdout",
          "output_type": "stream",
          "text": [
            "Selected 10 components for classification (up to PC 10).\n",
            "PCA experiment logged to MLFlow.\n",
            "🏃 View run PCA Experiment at: https://dagshub.com/ushasreepeketi/my-first-repo.mlflow/#/experiments/0/runs/df12da1a89494af0964d48063cb138f0\n",
            "🧪 View experiment at: https://dagshub.com/ushasreepeketi/my-first-repo.mlflow/#/experiments/0\n"
          ]
        }
      ],
      "source": [
        "from sklearn.decomposition import PCA\n",
        "import mlflow\n",
        "import matplotlib.pyplot as plt\n",
        "import numpy as np\n",
        "\n",
        "with mlflow.start_run(run_name=\"PCA Experiment\"):\n",
        "    #let us apply PCA with up to 10 components\n",
        "    n_components = 10\n",
        "    pca = PCA(n_components=n_components)\n",
        "    X_pca = pca.fit_transform(X_train)\n",
        "\n",
        "\n",
        "    explained_variance = pca.explained_variance_ratio_.tolist()\n",
        "\n",
        "    # Plotting the  Scree Plot\n",
        "    plt.figure(figsize=(8, 6))\n",
        "    plt.plot(range(1, len(explained_variance) + 1), explained_variance, marker='o', linestyle='--')\n",
        "    plt.title('Scree Plot')\n",
        "    plt.xlabel('Principal Component')\n",
        "    plt.ylabel('Variance Explained')\n",
        "    plt.grid(True)\n",
        "    plt.show()\n",
        "\n",
        "    # Log PCA results to MLFlow\n",
        "    mlflow.log_param(\"pca_components\", n_components)\n",
        "    mlflow.log_metric(\"explained_variance_sum\", sum(explained_variance))\n",
        "\n",
        "    for i, variance in enumerate(explained_variance, start=1):\n",
        "        mlflow.log_metric(f\"pca_variance_pc{i}\", variance)\n",
        "\n",
        "    #let us  Determine the cumulative variance\n",
        "    cumulative_variance = np.cumsum(explained_variance)\n",
        "    mlflow.log_metric(\"explained_variance_cumulative\", cumulative_variance[-1])\n",
        "\n",
        "    # let us Log the number of selected components (up to 10)\n",
        "    mlflow.log_param(\"selected_components\", n_components)\n",
        "\n",
        "    print(f\"Selected {n_components} components for classification (up to PC 10).\")\n",
        "    print(\"PCA experiment logged to MLFlow.\")\n"
      ]
    },
    {
      "cell_type": "markdown",
      "metadata": {
        "id": "4-VXDPuY9qsa"
      },
      "source": [
        "# EXPERIMENT 6 (custom1)"
      ]
    },
    {
      "cell_type": "code",
      "execution_count": null,
      "metadata": {
        "colab": {
          "base_uri": "https://localhost:8080/"
        },
        "id": "30qTk5SniYHa",
        "outputId": "8f535e13-6711-4859-8fdf-6830d1f2cde4"
      },
      "outputs": [
        {
          "name": "stderr",
          "output_type": "stream",
          "text": [
            "/usr/local/lib/python3.10/dist-packages/sklearn/neural_network/_multilayer_perceptron.py:691: ConvergenceWarning: Stochastic Optimizer: Maximum iterations (30) reached and the optimization hasn't converged yet.\n",
            "  warnings.warn(\n",
            "/usr/local/lib/python3.10/dist-packages/sklearn/neural_network/_multilayer_perceptron.py:691: ConvergenceWarning: Stochastic Optimizer: Maximum iterations (30) reached and the optimization hasn't converged yet.\n",
            "  warnings.warn(\n",
            "/usr/local/lib/python3.10/dist-packages/sklearn/neural_network/_multilayer_perceptron.py:691: ConvergenceWarning: Stochastic Optimizer: Maximum iterations (30) reached and the optimization hasn't converged yet.\n",
            "  warnings.warn(\n",
            "/usr/local/lib/python3.10/dist-packages/sklearn/neural_network/_multilayer_perceptron.py:691: ConvergenceWarning: Stochastic Optimizer: Maximum iterations (30) reached and the optimization hasn't converged yet.\n",
            "  warnings.warn(\n"
          ]
        },
        {
          "name": "stdout",
          "output_type": "stream",
          "text": [
            "MLP -> Accuracy: 0.71, F1-Score: 0.71\n",
            "🏃 View run MLP_Product_Type at: https://dagshub.com/ushasreepeketi/my-first-repo.mlflow/#/experiments/0/runs/a3d803c31d8c49c68795eeb08db7d7aa\n",
            "🧪 View experiment at: https://dagshub.com/ushasreepeketi/my-first-repo.mlflow/#/experiments/0\n",
            "MLP Experiment Completed.\n"
          ]
        }
      ],
      "source": [
        "from sklearn.neural_network import MLPClassifier\n",
        "from sklearn.metrics import accuracy_score, f1_score\n",
        "\n",
        "# let us Start a new MLFlow run for MLPClassifier\n",
        "with mlflow.start_run(run_name=\"MLP_Product_Type\"):\n",
        "    model = MLPClassifier(hidden_layer_sizes=(200,), max_iter=30, random_state=42,learning_rate='adaptive')\n",
        "\n",
        "    # Cross-validation setup\n",
        "    skf = StratifiedKFold(n_splits=4, shuffle=True, random_state=42)\n",
        "    accuracies = []\n",
        "    f1_scores = []\n",
        "\n",
        "    for train_idx, val_idx in skf.split(X_train, y_train):\n",
        "        X_fold_train, X_fold_val = X_train.iloc[train_idx], X_train.iloc[val_idx]\n",
        "        y_fold_train, y_fold_val = y_train.iloc[train_idx], y_train.iloc[val_idx]\n",
        "\n",
        "        # Train the model\n",
        "        model.fit(X_fold_train, y_fold_train)\n",
        "        y_pred = model.predict(X_fold_val)\n",
        "\n",
        "        # Evaluate model\n",
        "        accuracy = accuracy_score(y_fold_val, y_pred)\n",
        "        f1 = f1_score(y_fold_val, y_pred, average='macro')\n",
        "\n",
        "        accuracies.append(accuracy)\n",
        "        f1_scores.append(f1)\n",
        "\n",
        "    # Log the metrics\n",
        "    mean_accuracy = np.mean(accuracies)\n",
        "    mean_f1 = np.mean(f1_scores)\n",
        "\n",
        "    mlflow.log_metric(\"mean_accuracy\", mean_accuracy)\n",
        "    mlflow.log_metric(\"mean_f1_score\", mean_f1)\n",
        "\n",
        "    print(f\"MLP -> Accuracy: {mean_accuracy:.2f}, F1-Score: {mean_f1:.2f}\")\n",
        "\n",
        "print(\"MLP Experiment Completed.\")\n",
        "f1_scores1[\"Mlp\"]=0.71\n"
      ]
    },
    {
      "cell_type": "markdown",
      "metadata": {
        "id": "8sgu0FY19qsa"
      },
      "source": [
        "# EXPERIMENT 7 (custom experiment-2)"
      ]
    },
    {
      "cell_type": "code",
      "execution_count": null,
      "metadata": {
        "colab": {
          "base_uri": "https://localhost:8080/"
        },
        "id": "4NXOhNKNUx7D",
        "outputId": "5c6bf1ff-5e40-420f-c0ad-7f94dec781f2"
      },
      "outputs": [
        {
          "name": "stderr",
          "output_type": "stream",
          "text": [
            "/usr/local/lib/python3.10/dist-packages/sklearn/model_selection/_validation.py:528: FitFailedWarning: \n",
            "324 fits failed out of a total of 648.\n",
            "The score on these train-test partitions for these parameters will be set to nan.\n",
            "If these failures are not expected, you can try to debug them by setting error_score='raise'.\n",
            "\n",
            "Below are more details about the failures:\n",
            "--------------------------------------------------------------------------------\n",
            "324 fits failed with the following error:\n",
            "Traceback (most recent call last):\n",
            "  File \"/usr/local/lib/python3.10/dist-packages/sklearn/model_selection/_validation.py\", line 866, in _fit_and_score\n",
            "    estimator.fit(X_train, y_train, **fit_params)\n",
            "  File \"/usr/local/lib/python3.10/dist-packages/sklearn/base.py\", line 1382, in wrapper\n",
            "    estimator._validate_params()\n",
            "  File \"/usr/local/lib/python3.10/dist-packages/sklearn/base.py\", line 436, in _validate_params\n",
            "    validate_parameter_constraints(\n",
            "  File \"/usr/local/lib/python3.10/dist-packages/sklearn/utils/_param_validation.py\", line 98, in validate_parameter_constraints\n",
            "    raise InvalidParameterError(\n",
            "sklearn.utils._param_validation.InvalidParameterError: The 'max_bins' parameter of HistGradientBoostingClassifier must be an int in the range [2, 255]. Got 512 instead.\n",
            "\n",
            "  warnings.warn(some_fits_failed_message, FitFailedWarning)\n",
            "/usr/local/lib/python3.10/dist-packages/sklearn/model_selection/_search.py:1107: UserWarning: One or more of the test scores are non-finite: [0.99092047 0.99092047 0.99092047 0.99747738 0.99747738 0.99747738\n",
            " 0.99932762 0.99932762 0.99932762 0.99949571 0.99932762 0.99932762\n",
            " 0.99714187 0.99714187 0.99747806 0.99932762 1.         1.\n",
            "        nan        nan        nan        nan        nan        nan\n",
            "        nan        nan        nan        nan        nan        nan\n",
            "        nan        nan        nan        nan        nan        nan\n",
            " 0.99747738 0.99747738 0.99747738 1.         1.         1.\n",
            " 0.99949571 0.99932762 0.99932762 1.         1.         1.\n",
            " 0.99815078 1.         1.         1.         1.         1.\n",
            "        nan        nan        nan        nan        nan        nan\n",
            "        nan        nan        nan        nan        nan        nan\n",
            "        nan        nan        nan        nan        nan        nan\n",
            " 0.95493582 0.95493582 0.95493582 0.95493582 0.95493582 0.95493582\n",
            " 0.97343108 0.97343108 0.97343108 0.99176146 0.99209782 0.99226591\n",
            " 0.9904155  0.9904155  0.98923892 0.99327448 0.99377886 0.99411513\n",
            "        nan        nan        nan        nan        nan        nan\n",
            "        nan        nan        nan        nan        nan        nan\n",
            "        nan        nan        nan        nan        nan        nan\n",
            " 0.99092047 0.99092047 0.99092047 0.99747738 0.99747738 0.99747738\n",
            " 0.99932762 0.99932762 0.99932762 0.99932762 0.99932762 0.99932762\n",
            " 0.99714187 0.99714187 0.99747806 0.99932762 1.         1.\n",
            "        nan        nan        nan        nan        nan        nan\n",
            "        nan        nan        nan        nan        nan        nan\n",
            "        nan        nan        nan        nan        nan        nan\n",
            " 0.99747738 0.99747738 0.99747738 1.         1.         1.\n",
            " 0.99949571 0.99932762 0.99932762 1.         1.         1.\n",
            " 0.99815078 1.         1.         1.         1.         1.\n",
            "        nan        nan        nan        nan        nan        nan\n",
            "        nan        nan        nan        nan        nan        nan\n",
            "        nan        nan        nan        nan        nan        nan\n",
            " 0.95493582 0.95493582 0.95493582 0.95493582 0.95493582 0.95493582\n",
            " 0.97343108 0.97343108 0.97343108 0.99176146 0.99209782 0.99209782\n",
            " 0.9904155  0.9904155  0.98923892 0.99327448 0.99361068 0.99411513\n",
            "        nan        nan        nan        nan        nan        nan\n",
            "        nan        nan        nan        nan        nan        nan\n",
            "        nan        nan        nan        nan        nan        nan]\n",
            "  warnings.warn(\n",
            "\u001b[31m2024/12/20 23:17:52 WARNING mlflow.models.model: Model logged without a signature and input example. Please set `input_example` parameter when logging the model to auto infer the model signature.\u001b[0m\n"
          ]
        },
        {
          "name": "stdout",
          "output_type": "stream",
          "text": [
            "HistGradientBoosting (Tuned) -> Accuracy: 0.29, F1-Score: 0.19\n",
            "🏃 View run masked-dog-48 at: https://dagshub.com/ushasreepeketi/my-first-repo.mlflow/#/experiments/0/runs/7a09b33203ed4cbeba57617e9dfbfbf2\n",
            "🧪 View experiment at: https://dagshub.com/ushasreepeketi/my-first-repo.mlflow/#/experiments/0\n"
          ]
        }
      ],
      "source": [
        "import mlflow\n",
        "import mlflow.sklearn\n",
        "from sklearn.ensemble import HistGradientBoostingClassifier\n",
        "from sklearn.model_selection import GridSearchCV\n",
        "from sklearn.metrics import accuracy_score, f1_score\n",
        "from sklearn.model_selection import train_test_split\n",
        "from sklearn.preprocessing import StandardScaler\n",
        "import pandas as pd\n",
        "\n",
        "\n",
        "\n",
        "# One-hot encode categorical columns consistently\n",
        "categorical_columns = ['State', 'Market', 'Market_Size', 'Product']\n",
        "X_train_encoded = pd.get_dummies(X_train, columns=categorical_columns, drop_first=True)\n",
        "X_test_encoded = pd.get_dummies(X_test, columns=categorical_columns, drop_first=True)\n",
        "\n",
        "# Align columns so that both train and test sets have the same features\n",
        "X_train_encoded, X_test_encoded = X_train_encoded.align(X_test_encoded, join='left', axis=1, fill_value=0)\n",
        "\n",
        "# Scaling  the data (important for boosting models)\n",
        "scaler = StandardScaler()\n",
        "X_train_scaled = scaler.fit_transform(X_train_encoded)\n",
        "X_test_scaled = scaler.transform(X_test_encoded)\n",
        "\n",
        "# let us Start a new MLflow run to log this experiment\n",
        "with mlflow.start_run():\n",
        "    # Create the HistGradientBoosting model\n",
        "    model = HistGradientBoostingClassifier(random_state=42)\n",
        "\n",
        "    # Set up the parameter grid for hyperparameter tuning\n",
        "    param_grid = {\n",
        "        'max_iter': [10, 20],  # Number of boosting iterations\n",
        "        'learning_rate': [0.05, 0.1, 0.01],  # Learning rate\n",
        "        'max_depth': [3, 5, 7],  # Maximum depth of the trees\n",
        "        'min_samples_leaf': [20, 30, 50],  # Minimum samples in each leaf node\n",
        "        'l2_regularization': [0.1, 0.2],  # L2 regularization\n",
        "        'max_bins': [255, 512],  # Number of bins for discretizing the data\n",
        "    }\n",
        "\n",
        "    # Set up GridSearchCV for hyperparameter tuning\n",
        "    grid_search = GridSearchCV(model, param_grid, cv=3, scoring='accuracy', n_jobs=-1)\n",
        "    grid_search.fit(X_train_scaled, y_train)\n",
        "\n",
        "    # Log the best hyperparameters found by GridSearchCV\n",
        "    best_params = grid_search.best_params_\n",
        "    mlflow.log_params(best_params)  # Log hyperparameters in MLflow\n",
        "\n",
        "    # we will Get the best model after hyperparameter tuning\n",
        "    best_model = grid_search.best_estimator_\n",
        "\n",
        "    # Make predictions using the best model\n",
        "    y_pred = best_model.predict(X_test_scaled)\n",
        "\n",
        "    # Evaluate the model\n",
        "    accuracy = accuracy_score(y_test, y_pred)\n",
        "    f1 = f1_score(y_test, y_pred, average='macro')\n",
        "\n",
        "    # Log the evaluation metrics in MLflow\n",
        "    mlflow.log_metric('accuracy', accuracy)\n",
        "    mlflow.log_metric('f1_score', f1)\n",
        "\n",
        "    # Log the trained model in MLflow\n",
        "    mlflow.sklearn.log_model(best_model, \"model\")\n",
        "\n",
        "    # Print the results\n",
        "    print(f\"HistGradientBoosting (Tuned) -> Accuracy: {accuracy:.2f}, F1-Score: {f1:.2f}\")\n",
        "f1_scores1['hist gradient']=0.19"
      ]
    },
    {
      "cell_type": "markdown",
      "metadata": {
        "id": "R-_JT2vg9qsa"
      },
      "source": [
        "# F1 SCORE PLOTTING AND CHOOSING THE BEST MODEL"
      ]
    },
    {
      "cell_type": "code",
      "execution_count": null,
      "metadata": {
        "colab": {
          "base_uri": "https://localhost:8080/",
          "height": 694
        },
        "id": "qDKLRsoBu0rE",
        "outputId": "478e085a-fba0-46ab-8bd4-aff227b05848"
      },
      "outputs": [
        {
          "name": "stderr",
          "output_type": "stream",
          "text": [
            "<ipython-input-68-4ebd75da5026>:4: FutureWarning: \n",
            "\n",
            "Passing `palette` without assigning `hue` is deprecated and will be removed in v0.14.0. Assign the `x` variable to `hue` and set `legend=False` for the same effect.\n",
            "\n",
            "  sns.barplot(data=f1_df, x='Model', y='F1-Score', palette=\"viridis\")\n"
          ]
        },
        {
          "data": {
            "image/png": "[encoded data removed]",
            "text/plain": [
              "<Figure size 1000x600 with 1 Axes>"
            ]
          },
          "metadata": {},
          "output_type": "display_data"
        }
      ],
      "source": [
        "f1_df = pd.DataFrame(list(f1_scores1.items()), columns=[\"Model\", \"F1-Score\"])\n",
        "# Creating a seaborn barplot to compare F1-scores across models and selecting the best model\n",
        "plt.figure(figsize=(10, 6))\n",
        "sns.barplot(data=f1_df, x='Model', y='F1-Score', palette=\"viridis\")\n",
        "plt.title(\"F1-Score Comparison of Different Models\")\n",
        "plt.xlabel(\"Model\")\n",
        "plt.ylabel(\"F1-Score\")\n",
        "plt.xticks(rotation=45)\n",
        "plt.tight_layout()\n",
        "plt.show()"
      ]
    },
    {
      "cell_type": "markdown",
      "metadata": {
        "id": "nXZwVINO9qsa"
      },
      "source": [
        "# SAVING THE MODEL USING JOBLIB"
      ]
    },
    {
      "cell_type": "code",
      "execution_count": null,
      "metadata": {
        "colab": {
          "base_uri": "https://localhost:8080/"
        },
        "id": "CQLclNEq4M1X",
        "outputId": "ff613709-92da-4004-eb94-9e7b920d52e4"
      },
      "outputs": [
        {
          "name": "stdout",
          "output_type": "stream",
          "text": [
            "Model saved successfully!\n"
          ]
        }
      ],
      "source": [
        "import joblib\n",
        "\n",
        "\n",
        "# let us save the best model which is random forest\n",
        "model = random_forest_pipeline\n",
        "\n",
        "# Save the model to a file\n",
        "joblib.dump(model, 'final_model.pkl')\n",
        "\n",
        "print(\"Model saved successfully!\")\n"
      ]
    },
    {
      "cell_type": "markdown",
      "metadata": {
        "id": "4-Fx9Iud9qsa"
      },
      "source": [
        "# FAST API CODE (creation):"
      ]
    },
    {
      "cell_type": "code",
      "execution_count": null,
      "metadata": {
        "id": "IlhZz5ii9qsa"
      },
      "outputs": [],
      "source": [
        "# FAST API CODE (creation):\n",
        "\n",
        "from fastapi import FastAPI\n",
        "from pydantic import BaseModel\n",
        "import joblib\n",
        "import pandas as pd\n",
        "\n",
        "#Loading  the best model we have got which is random forest\n",
        "model = joblib.load('final_model.pkl')\n",
        "\n",
        "#let us Initialize the FastAPI app\n",
        "app = FastAPI()\n",
        "\n",
        "#let us mapping of encoded labels to product types\n",
        "product_type_mapping = {\n",
        "    0: \"Coffee\",\n",
        "    1: \"Espresso\",\n",
        "    2: \"Herbal Tea\",\n",
        "    3: \"Tea\"\n",
        "}\n",
        "\n",
        "class PredictionRequest(BaseModel):\n",
        "    data: dict  # It accept data as a dictionary where keys are feature names and values are their respective values.\n",
        "\n",
        "#let us define the root route\n",
        "@app.get(\"/\")\n",
        "def read_root():\n",
        "    return {\"message\": \"Welcome to the FastAPI application!\"}\n",
        "\n",
        "@app.post(\"/predict/\")\n",
        "async def predict(request: PredictionRequest):\n",
        "    # let us convert input data into a DataFrame\n",
        "    input_data = pd.DataFrame([request.data])\n",
        "\n",
        "    # letus predict using the model\n",
        "    prediction = model.predict(input_data)\n",
        "\n",
        "    # Mapping the numeric prediction to the product type\n",
        "    predicted_product = product_type_mapping.get(prediction[0], \"Unknown\")\n",
        "\n",
        "    return {\"prediction\": predicted_product}\n",
        "\n",
        "#let us serve the model\n",
        "if __name__ == \"__main__\":\n",
        "    import uvicorn\n",
        "    uvicorn.run(app, host=\"0.0.0.0\", port=8000)\n"
      ]
    },
    {
      "cell_type": "markdown",
      "metadata": {
        "id": "eUcker7l9qsa"
      },
      "source": [
        "# docker file\n"
      ]
    },
    {
      "cell_type": "code",
      "execution_count": null,
      "metadata": {
        "id": "0rFujMzd9qsb"
      },
      "outputs": [],
      "source": [
        "#let us  Use the latest Python image from Docker Hub with ARM64 architecture support\n",
        "\n",
        "FROM --platform=linux/arm64 python:3.11-slim\n",
        "\n",
        "#Set the working directory inside the container\n",
        "WORKDIR /app\n",
        "\n",
        "RUN apt-get update && apt-get install -y \\\n",
        "    build-essential \\\n",
        "    cmake \\\n",
        "    python3-dev \\\n",
        "    && rm -rf /var/lib/apt/lists/*\n",
        "\n",
        "COPY requirements.txt .\n",
        "\n",
        "RUN pip install --no-cache-dir -U pip\n",
        "\n",
        "#Install Python dependencies listed in requirements.txt\n",
        "RUN pip install --no-cache-dir -r requirements.txt\n",
        "\n",
        "#Copy the FastAPI application to the container\n",
        "COPY . .\n",
        "\n",
        "#Expose port 8000 for the FastAPI app to run\n",
        "EXPOSE 8000\n",
        "\n",
        "#Command to run the FastAPI application using Uvicorn\n",
        "CMD [\"uvicorn\", \"main:app\", \"--host\", \"0.0.0.0\", \"--port\", \"8000\"]"
      ]
    },
    {
      "cell_type": "markdown",
      "metadata": {
        "id": "u6a4xPzJ9qsb"
      },
      "source": [
        "# PUSHED TO DOCKERHUB"
      ]
    },
    {
      "cell_type": "markdown",
      "metadata": {
        "id": "FP-ndxjO9qsb"
      },
      "source": [
        "# deployed the docker image to aws ecs"
      ]
    },
    {
      "cell_type": "markdown",
      "metadata": {
        "id": "XhM2cklP9qsb"
      },
      "source": [
        "# STREAM LIT (CODE):"
      ]
    },
    {
      "cell_type": "code",
      "execution_count": null,
      "metadata": {
        "id": "mVslW4ya9qsb"
      },
      "outputs": [],
      "source": [
        "# STREAM LIT (CODE):\n",
        "import streamlit as st\n",
        "import requests\n",
        "\n",
        "st.title(\"Best Product Type to sell\")\n",
        "st.write(\"By Usha Sree Peketi\")\n",
        "st.write(\"Enter the details to check which product to sell!\")\n",
        "\n",
        "#Input Fields for the API\n",
        "area_code = st.number_input(\"Area Code\", min_value=200, max_value=999, step=1)\n",
        "\n",
        "#Providing the dropdown options for categorical columns\n",
        "state = st.selectbox(\"State\", ['Connecticut', 'Washington', 'California', 'Texas', 'New York', 'Ohio',\n",
        "                               'Illinois', 'Louisiana', 'Florida', 'Wisconsin', 'Colorado', 'Missouri',\n",
        "                               'Iowa', 'Massachusetts', 'Oklahoma', 'Utah', 'Oregon', 'New Mexico',\n",
        "                               'New Hampshire', 'Nevada'])\n",
        "\n",
        "market = st.selectbox(\"Market\", ['East', 'West', 'South', 'Central'])\n",
        "\n",
        "market_size = st.selectbox(\"Market Size\", ['Small Market', 'Major Market'])\n",
        "\n",
        "product = st.selectbox(\"Product\", ['Columbian', 'Green Tea', 'Caffe Mocha', 'Decaf Espresso', 'Lemon', 'Mint',\n",
        "                                  'Darjeeling', 'Decaf Irish Cream', 'Chamomile', 'Earl Grey', 'Caffe Latte',\n",
        "                                  'Amaretto', 'Regular Espresso'])\n",
        "\n",
        "#Input Fields for numerical data\n",
        "sales = st.number_input(\"Sales\", min_value=0.0, step=0.01)\n",
        "profit = st.number_input(\"Profit\", min_value=0.0, step=0.01)\n",
        "cogs = st.number_input(\"COGS\", min_value=0.0, step=0.01)\n",
        "marketing = st.number_input(\"Marketing\", min_value=0.0, step=0.01)\n",
        "total_expenses = st.number_input(\"Total Expenses\", min_value=0.0, step=0.01)\n",
        "margin = st.number_input(\"Margin\", min_value=0.0, step=0.01)\n",
        "\n",
        "#Button to Trigger Prediction\n",
        "if st.button(\"Classify\"):\n",
        "    # Validate input to ensure all fields are filled\n",
        "    if state and market and market_size and product and area_code and sales is not None and profit is not None and cogs is not None and marketing is not None and total_expenses is not None and margin is not None:\n",
        "        try:\n",
        "            api_url = \"http://18.217.75.50:8000/predict/\"\n",
        "\n",
        "            # Construct the payload\n",
        "            payload = {\n",
        "                \"data\": {\n",
        "                    \"Area_Code\": area_code,\n",
        "                    \"State\": state,\n",
        "                    \"Market\": market,\n",
        "                    \"Market_Size\": market_size,\n",
        "                    \"Sales\": sales,\n",
        "                    \"Profit\": profit,\n",
        "                    \"COGS\": cogs,\n",
        "                    \"Product\": product,\n",
        "                    \"Marketing\": marketing,\n",
        "                    \"Total_Expenses\": total_expenses,\n",
        "                    \"Margin\": margin\n",
        "                }\n",
        "            }\n",
        "\n",
        "            # Make POST Request\n",
        "            response = requests.post(api_url, json=payload)\n",
        "\n",
        "            # Parse Response\n",
        "            if response.status_code == 200:\n",
        "                result = response.json()\n",
        "                st.success(f\"Prediction: {result['prediction']}\")\n",
        "            else:\n",
        "                st.error(f\"Error: {response.json().get('detail', 'Unable to get prediction from the API.')}\")\n",
        "        except Exception as e:\n",
        "            st.error(f\"An error occurred: {str(e)}\")\n",
        "    else:\n",
        "        st.warning(\"Please fill out all required fields.\")\n",
        "else:\n",
        "    st.info(\"Fill in the fields above and click 'Classify' to get a prediction.\")\n",
        "\n",
        "#Footer\n",
        "st.write(\"Powered by Streamlit & FastAPI\")\n"
      ]
    },
    {
      "cell_type": "markdown",
      "metadata": {
        "id": "gEPPRqLx9qsb"
      },
      "source": []
    }
  ],
  "metadata": {
    "accelerator": "GPU",
    "colab": {
      "gpuType": "T4",
      "provenance": []
    },
    "kernelspec": {
      "display_name": "Python 3",
      "name": "python3"
    },
    "language_info": {
      "name": "python"
    }
  },
  "nbformat": 4,
  "nbformat_minor": 0
}